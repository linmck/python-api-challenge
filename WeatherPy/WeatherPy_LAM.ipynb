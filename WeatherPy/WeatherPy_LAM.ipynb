{
 "cells": [
  {
   "cell_type": "code",
   "execution_count": null,
   "metadata": {},
   "outputs": [],
   "source": [
    "# Dependencies and Setup\n",
    "import openweathermapy as ow\n",
    "import matplotlib.pyplot as plt\n",
    "import pandas as pd\n",
    "import numpy as np\n",
    "import requests\n",
    "import time\n",
    "\n",
    "# Import API key\n",
    "from config import api_key\n",
    "\n",
    "# Incorporated citipy to determine city based on latitude and longitude\n",
    "from citipy import citipy\n",
    "\n",
    "# Output File (CSV)\n",
    "output_data_file = \"output_data/cities.csv\"\n",
    "\n",
    "# Range of latitudes and longitudes\n",
    "lat_range = (-90, 90)\n",
    "lng_range = (-180, 180)\n",
    "\n",
    "#Outline stylesheet to use for plots\n",
    "plt.style.use('ggplot')"
   ]
  },
  {
   "cell_type": "code",
   "execution_count": null,
   "metadata": {},
   "outputs": [],
   "source": [
    "# List for holding lat_lngs and cities\n",
    "lat_lngs = []\n",
    "cities = []\n",
    "\n",
    "# Create a set of random lat and lng combinations\n",
    "lats = np.random.uniform(low=-90.000, high=90.000, size=1500)\n",
    "lngs = np.random.uniform(low=-180.000, high=180.000, size=1500)\n",
    "lat_lngs = zip(lats, lngs)\n",
    "\n",
    "# Identify nearest city for each lat, lng combination\n",
    "for lat_lng in lat_lngs:\n",
    "    city = citipy.nearest_city(lat_lng[0], lat_lng[1]).city_name\n",
    "    \n",
    "    # If the city is unique, then add it to a our cities list\n",
    "    if city not in cities:\n",
    "        cities.append(city)\n",
    "\n",
    "# Print the city count to confirm sufficient count\n",
    "len(cities)"
   ]
  },
  {
   "cell_type": "markdown",
   "metadata": {},
   "source": [
    "### Perform API Calls\n",
    "* Perform a weather check on each city using a series of successive API calls.\n",
    "* Include a print log of each city as it'sbeing processed (with the city number and city name)."
   ]
  },
  {
   "cell_type": "code",
   "execution_count": null,
   "metadata": {},
   "outputs": [],
   "source": [
    "# Create a settings dictionary with your API key and preferred units\n",
    "settings = {\"units\": \"imperial\", \"appid\": api_key}"
   ]
  },
  {
   "cell_type": "code",
   "execution_count": null,
   "metadata": {},
   "outputs": [],
   "source": [
    "# Store base url\n",
    "url = \"http://api.openweathermap.org/data/2.5/weather?\"\n",
    "\n",
    "# Set up lists to hold reponse info\n",
    "clouds = []\n",
    "country = []\n",
    "humidity = []\n",
    "lat = []\n",
    "lon = []\n",
    "max_temp = []\n",
    "wind_speed = []\n",
    "\n",
    "# Loop through the list of cities and perform a request for data on each\n",
    "for city in cities:\n",
    "    print(f\"Processing request for {city}\")\n",
    "    response = requests.get(url + \"appid=\" + api_key + \"&q=\" + city +\"&units=imperial\").json()\n",
    "    try:\n",
    "        clouds.append(response[\"clouds\"][\"all\"])\n",
    "    except KeyError:\n",
    "        clouds.append(\"NaN\")\n",
    "    try:\n",
    "        country.append(response[\"sys\"][\"country\"])\n",
    "    except KeyError:\n",
    "        country.append(\"NaN\")\n",
    "    try:\n",
    "        humidity.append(response[\"main\"][\"humidity\"])\n",
    "    except KeyError:\n",
    "        humidity.append(\"NaN\")\n",
    "    try:\n",
    "        lat.append(response[\"coord\"][\"lat\"])\n",
    "    except KeyError:\n",
    "        lat.append(\"NaN\")\n",
    "    try:\n",
    "        lon.append(response[\"coord\"][\"lon\"])\n",
    "    except KeyError:\n",
    "        lon.append(\"NaN\")\n",
    "    try:\n",
    "        max_temp.append(response[\"main\"][\"temp_max\"])\n",
    "    except KeyError:\n",
    "        max_temp.append(\"NaN\")\n",
    "    try:\n",
    "        wind_speed.append(response[\"wind\"][\"speed\"])\n",
    "    except KeyError:\n",
    "        wind_speed.append(\"NaN\")"
   ]
  },
  {
   "cell_type": "markdown",
   "metadata": {},
   "source": [
    "### Convert Raw Data to DataFrame\n",
    "* Export the city data into a .csv.\n",
    "* Display the DataFrame"
   ]
  },
  {
   "cell_type": "code",
   "execution_count": null,
   "metadata": {},
   "outputs": [],
   "source": [
    "# create a dictionary from cities and response values\n",
    "weather_dict = {\n",
    "    \"city\": cities,\n",
    "    \"clouds\": clouds,\n",
    "    \"country\": country,\n",
    "    \"humidity\": humidity,\n",
    "    \"lat\": lat,\n",
    "    \"lon\": lon,\n",
    "    \"max_temp\": max_temp,\n",
    "    \"wind_speed\": wind_speed\n",
    "}\n",
    "\n",
    "#Convert dictionary to dataframe\n",
    "weather_data = pd.DataFrame(weather_dict)\n",
    "\n",
    "#Preview dataframe\n",
    "weather_data.head()"
   ]
  },
  {
   "cell_type": "code",
   "execution_count": null,
   "metadata": {},
   "outputs": [],
   "source": [
    "#Add today's date to dataframe\n",
    "date = pd.Timestamp(\"today\").strftime(\"%m/%d/%Y\")\n",
    "weather_data[\"date\"] = date\n",
    "\n",
    "#Preview dataframe with new column\n",
    "weather_data.head()"
   ]
  },
  {
   "cell_type": "code",
   "execution_count": null,
   "metadata": {},
   "outputs": [],
   "source": [
    "#Save dataframe to csv\n",
    "weather_data.to_csv(r\"Results/weather_data.csv\")"
   ]
  },
  {
   "cell_type": "markdown",
   "metadata": {},
   "source": [
    "### Plotting the Data\n",
    "* Use proper labeling of the plots using plot titles (including date of analysis) and axes labels.\n",
    "* Save the plotted figures as .pngs."
   ]
  },
  {
   "cell_type": "markdown",
   "metadata": {},
   "source": [
    "#### Latitude vs. Temperature Plot"
   ]
  },
  {
   "cell_type": "code",
   "execution_count": null,
   "metadata": {},
   "outputs": [],
   "source": [
    "#Create scatter plot showing the relationship of latitude and max temperatures for today\n",
    "plt.scatter(lat, max_temp, marker=\"o\", facecolors=\"blue\", alpha=0.25, edgecolors=\"black\")\n",
    "plt.title(f\"City Latitude vs. Max Temperature ({date})\")\n",
    "plt.xlabel(\"Latitude\")\n",
    "plt.ylabel(\"Max Temperature (Fahrenheit)\")\n",
    "plt.grid(True)\n",
    "plt.savefig(\"Results/max_temp-latitude.png\")"
   ]
  },
  {
   "cell_type": "markdown",
   "metadata": {},
   "source": [
    "#### Latitude vs. Humidity Plot"
   ]
  },
  {
   "cell_type": "code",
   "execution_count": null,
   "metadata": {},
   "outputs": [],
   "source": [
    "#Create scatter plot showing the relationship of latitude and humidity for today\n",
    "plt.scatter(lat, humidity, marker=\"o\", facecolors=\"blue\", alpha=0.25, edgecolors=\"black\")\n",
    "plt.title(f\"City Latitude vs. Humidity ({date})\")\n",
    "plt.xlabel(\"Latitude\")\n",
    "plt.ylabel(\"Humidity (%)\")\n",
    "plt.grid(True)\n",
    "plt.savefig(\"Results/humidity-latitude.png\")"
   ]
  },
  {
   "cell_type": "markdown",
   "metadata": {},
   "source": [
    "#### Latitude vs. Cloudiness Plot"
   ]
  },
  {
   "cell_type": "code",
   "execution_count": null,
   "metadata": {},
   "outputs": [],
   "source": [
    "#Create scatter plot showing the relationship of latitude and cloudiness for today\n",
    "plt.scatter(lat, clouds, marker=\"o\", facecolors=\"blue\", alpha=0.25, edgecolors=\"black\")\n",
    "plt.title(f\"City Latitude vs. Cloudiness ({date})\")\n",
    "plt.xlabel(\"Latitude\")\n",
    "plt.ylabel(\"Cloudiness (%)\")\n",
    "plt.grid(True)\n",
    "plt.savefig(\"Results/cloudiness-latitude.png\")"
   ]
  },
  {
   "cell_type": "markdown",
   "metadata": {},
   "source": [
    "#### Latitude vs. Wind Speed Plot"
   ]
  },
  {
   "cell_type": "code",
   "execution_count": null,
   "metadata": {},
   "outputs": [],
   "source": [
    "#Create scatter plot showing the relationship of latitude and wind speed for today\n",
    "plt.scatter(lat, wind_speed, marker=\"o\", facecolors=\"blue\", alpha=0.25, edgecolors=\"black\")\n",
    "plt.title(f\"City Latitude vs. Windspeed ({date})\")\n",
    "plt.xlabel(\"Latitude\")\n",
    "plt.ylabel(\"Wind Speed (mph)\")\n",
    "plt.grid(True)\n",
    "plt.savefig(\"Results/wind_speed-latitude.png\")"
   ]
  },
  {
   "cell_type": "markdown",
   "metadata": {},
   "source": [
    "### Today's Weather\n",
    "* As expected, today's max temperatures were highest in cities closest to the equator. As you move away from the equator, the day's max temperatures drops.\n",
    "* The majority of cities measured saw humidity levels of 70% and above today regardless of their proximity to the equator.\n",
    "* The wind speed in most cities was low today with the bulk of the cities measured showing wind speeds under 10 mph regardless of their latitudnal position."
   ]
  },
  {
   "cell_type": "code",
   "execution_count": null,
   "metadata": {},
   "outputs": [],
   "source": [
    "#Create scatter plot showing the relationship of latitude and max temperatures for today\n",
    "plt.figure(figsize=(6,6))\n",
    "plt.scatter(lat, max_temp, marker=\"o\", facecolors=\"blue\", alpha=0.25, edgecolors=\"black\")\n",
    "plt.title(f\"City Latitude vs. Max Temperature ({date})\")\n",
    "plt.xlabel(\"Latitude\")\n",
    "plt.ylabel(\"Max Temperature (Fahrenheit)\")\n",
    "plt.grid(True)\n",
    "\n",
    "plt.savefig(\"Results/max_temp-latitude-sq.png\")"
   ]
  },
  {
   "cell_type": "code",
   "execution_count": null,
   "metadata": {},
   "outputs": [],
   "source": [
    "#Create scatter plot showing the relationship of latitude and humidity for today\n",
    "plt.figure(figsize=(6,6))\n",
    "plt.scatter(lat, humidity, marker=\"o\", facecolors=\"blue\", alpha=0.25, edgecolors=\"black\")\n",
    "plt.title(f\"City Latitude vs. Humidity ({date})\")\n",
    "plt.xlabel(\"Latitude\")\n",
    "plt.ylabel(\"Humidity (%)\")\n",
    "plt.grid(True)\n",
    "plt.savefig(\"Results/humidity-latitude-sq.png\")"
   ]
  },
  {
   "cell_type": "code",
   "execution_count": null,
   "metadata": {},
   "outputs": [],
   "source": [
    "#Create scatter plot showing the relationship of latitude and cloudiness for today\n",
    "plt.figure(figsize=(6,6))\n",
    "plt.scatter(lat, clouds, marker=\"o\", facecolors=\"blue\", alpha=0.25, edgecolors=\"black\")\n",
    "plt.title(f\"City Latitude vs. Cloudiness ({date})\")\n",
    "plt.xlabel(\"Latitude\")\n",
    "plt.ylabel(\"Cloudiness (%)\")\n",
    "plt.grid(True)\n",
    "plt.savefig(\"Results/cloudiness-latitude-sq.png\")"
   ]
  },
  {
   "cell_type": "code",
   "execution_count": null,
   "metadata": {},
   "outputs": [],
   "source": [
    "#Create scatter plot showing the relationship of latitude and wind speed for today\n",
    "plt.figure(figsize=(6,6))\n",
    "plt.scatter(lat, wind_speed, marker=\"o\", facecolors=\"blue\", alpha=0.25, edgecolors=\"black\")\n",
    "plt.title(f\"City Latitude vs. Windspeed ({date})\")\n",
    "plt.xlabel(\"Latitude\")\n",
    "plt.ylabel(\"Wind Speed (mph)\")\n",
    "plt.grid(True)\n",
    "plt.savefig(\"Results/wind_speed-latitude-sq.png\")"
   ]
  },
  {
   "cell_type": "code",
   "execution_count": null,
   "metadata": {},
   "outputs": [],
   "source": [
    "weather_data.to_html('weather_data.html')"
   ]
  },
  {
   "cell_type": "code",
   "execution_count": null,
   "metadata": {},
   "outputs": [],
   "source": []
  }
 ],
 "metadata": {
  "kernelspec": {
   "display_name": "Python 3",
   "language": "python",
   "name": "python3"
  },
  "language_info": {
   "codemirror_mode": {
    "name": "ipython",
    "version": 3
   },
   "file_extension": ".py",
   "mimetype": "text/x-python",
   "name": "python",
   "nbconvert_exporter": "python",
   "pygments_lexer": "ipython3",
   "version": "3.6.9"
  }
 },
 "nbformat": 4,
 "nbformat_minor": 2
}
